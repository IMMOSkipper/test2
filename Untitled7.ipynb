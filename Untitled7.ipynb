{
 "cells": [
  {
   "cell_type": "code",
   "execution_count": 1,
   "metadata": {},
   "outputs": [
    {
     "name": "stdout",
     "output_type": "stream",
     "text": [
      "输入石头，剪刀，布，输入end结束游戏：石头\n",
      "电脑出了：布，你输了！\n",
      "输入石头，剪刀，布，输入end结束游戏：剪刀\n",
      "电脑出了：布,你赢了！\n",
      "输入石头，剪刀，布，输入end结束游戏：布\n",
      "电脑出了：剪刀，你输了！\n",
      "输入石头，剪刀，布，输入end结束游戏：不玩了\n",
      "输入错误，重试：\n",
      "输入石头，剪刀，布，输入end结束游戏：end\n",
      "布\n",
      "\n",
      "游戏结束\n"
     ]
    }
   ],
   "source": [
    "import random\n",
    "while 1:\n",
    "    s=int(random.randint(1,3))\n",
    "    if s==1:\n",
    "        ind=\"石头\"\n",
    "    elif s==2:\n",
    "        ind=\"剪刀\"\n",
    "    elif s==3:\n",
    "        ind=\"布\"\n",
    "    m=input(\"输入石头，剪刀，布，输入end结束游戏：\")\n",
    "    blist=[\"石头\",\"剪刀\",\"布\"]\n",
    "    if (m not in blist) and (m!=\"end\"):\n",
    "        print(\"输入错误，重试：\")\n",
    "    elif (m==\"end\") and (m not in blist):\n",
    "        print(ind)\n",
    "        print(\"\\n游戏结束\")\n",
    "        break\n",
    "    elif m==ind:\n",
    "        print(\"平\")\n",
    "    elif (m==\"石头\" and ind==\"剪刀\")or(m==\"剪刀\" and ind==\"布\")or(m==\"布\" and ind==\"石头\"):\n",
    "        print(\"电脑出了：\"+ind+\",你赢了！\")\n",
    "    else:\n",
    "        print(\"电脑出了：\"+ind+\"，你输了！\")"
   ]
  },
  {
   "cell_type": "code",
   "execution_count": 3,
   "metadata": {},
   "outputs": [
    {
     "name": "stdout",
     "output_type": "stream",
     "text": [
      "\t\t\t\t\t\t\t\t9x9=81\t\n",
      "\t\t\t\t\t\t\t8x8=64\t8x9=72\t\n",
      "\t\t\t\t\t\t7x7=49\t7x8=56\t7x9=63\t\n",
      "\t\t\t\t\t6x6=36\t6x7=42\t6x8=48\t6x9=54\t\n",
      "\t\t\t\t5x5=25\t5x6=30\t5x7=35\t5x8=40\t5x9=45\t\n",
      "\t\t\t4x4=16\t4x5=20\t4x6=24\t4x7=28\t4x8=32\t4x9=36\t\n",
      "\t\t3x3=9\t3x4=12\t3x5=15\t3x6=18\t3x7=21\t3x8=24\t3x9=27\t\n",
      "\t2x2=4\t2x3=6\t2x4=8\t2x5=10\t2x6=12\t2x7=14\t2x8=16\t2x9=18\t\n",
      "1x1=1\t1x2=2\t1x3=3\t1x4=4\t1x5=5\t1x6=6\t1x7=7\t1x8=8\t1x9=9\t\n"
     ]
    }
   ],
   "source": [
    "for i in range(9,0,-1):\n",
    "    for j in range(1,i):\n",
    "        print(\"\\t\",end=\"\")\n",
    "    for k in range(i,10):\n",
    "        print(\"%dx%d=%d\" % (i,k,k*i),end=\"\\t\")\n",
    "    print()"
   ]
  },
  {
   "cell_type": "code",
   "execution_count": 5,
   "metadata": {},
   "outputs": [
    {
     "name": "stdout",
     "output_type": "stream",
     "text": [
      "***********************开始游戏***********************\n",
      "输入投入的金额：20\n",
      "你现在的余额为：20元\n",
      "输入购买彩票数量4\n",
      "你现在的余额为：12元\n",
      "提示：中奖数据有六位数，每位数为0或者1\n",
      "请猜测中奖数据：（输入的数据为0或1）1\n",
      "[1, 0, 0, 0, 1, 1]\n",
      "你猜测的数据为： ['1']\n",
      "中奖数字为： [1, 0, 0, 0, 1, 1]\n",
      "没有中奖，请继续加油\n",
      "请问还要继续么？结束请输入no，继续请任意输入字符：j\n",
      "输入购买彩票数量2\n",
      "你现在的余额为：8元\n",
      "提示：中奖数据有六位数，每位数为0或者1\n",
      "请猜测中奖数据：（输入的数据为0或1）110011\n",
      "[0, 1, 1, 1, 1, 1]\n",
      "你猜测的数据为： ['1', '1', '0', '0', '1', '1']\n",
      "中奖数字为： [0, 1, 1, 1, 1, 1]\n",
      "没有中奖，请继续加油\n",
      "请问还要继续么？结束请输入no，继续请任意输入字符：no\n",
      "***********************结束游戏***********************\n",
      "你的余额为：8元\n"
     ]
    }
   ],
   "source": [
    "import random\n",
    "t1=\"开始游戏\"\n",
    "t2=\"结束游戏\"\n",
    "print(t1.center(50,\"*\"))\n",
    "data1=[]\n",
    "money=int(input(\"输入投入的金额：\"))\n",
    "print(\"你现在的余额为：%d元\"%money)\n",
    "while 1:\n",
    "    for i in range(6):\n",
    "        n=random.choice([0,1])\n",
    "        data1.append(n)\n",
    "    if money<2:\n",
    "        print(\"你的余额不足，请充值\")\n",
    "        m=input(\"输入投入的金额：\")\n",
    "        if int(m)==0:\n",
    "            break\n",
    "        else:\n",
    "            money=int(m)\n",
    "    while 1:\n",
    "        j=int(input(\"输入购买彩票数量\"))\n",
    "        if money-j*2<0: \n",
    "            print(\"购买后余额不足，请重新输入\")\n",
    "        else:\n",
    "            money=money-j*2\n",
    "            print(\"你现在的余额为：%d元\"%money)\n",
    "            break\n",
    "    print(\"提示：中奖数据有六位数，每位数为0或者1\")\n",
    "    n2=input(\"请猜测中奖数据：（输入的数据为0或1）\")\n",
    "    print(str(data1))\n",
    "    f=[]\n",
    "    for x in n2:\n",
    "        f.append(x)\n",
    "    f1=str(f)\n",
    "    f2=f1.split(\"’\")\n",
    "    f3=\"\".join(f2)\n",
    "    print(\"你猜测的数据为：\",f3)\n",
    "    if f3==str(data1):\n",
    "        print(\"中奖数字为：\",data1)\n",
    "        print(\"恭喜你中大奖啦\")\n",
    "        money=money+j*100\n",
    "        print(\"你现在的余额为：%d元\"%money)\n",
    "    else:\n",
    "        print(\"中奖数字为：\",data1)\n",
    "        print(\"没有中奖，请继续加油\")\n",
    "    con=input(\"请问还要继续么？结束请输入no，继续请任意输入字符：\")\n",
    "    if con==\"no\":\n",
    "        break\n",
    "    data1=[]\n",
    "print(t2.center(50,\"*\"))\n",
    "print(\"你的余额为：%d元\"%money)        "
   ]
  },
  {
   "cell_type": "code",
   "execution_count": null,
   "metadata": {},
   "outputs": [],
   "source": []
  }
 ],
 "metadata": {
  "kernelspec": {
   "display_name": "Python 3",
   "language": "python",
   "name": "python3"
  },
  "language_info": {
   "codemirror_mode": {
    "name": "ipython",
    "version": 3
   },
   "file_extension": ".py",
   "mimetype": "text/x-python",
   "name": "python",
   "nbconvert_exporter": "python",
   "pygments_lexer": "ipython3",
   "version": "3.7.3"
  }
 },
 "nbformat": 4,
 "nbformat_minor": 2
}
